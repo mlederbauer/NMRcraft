{
 "cells": [
  {
   "cell_type": "markdown",
   "metadata": {},
   "source": [
    "# Dataloader\n",
    "Hello dear NMRcrafter! In this notebook I would like to quickly run you through the usage of the nmrcraft dataloader!\n",
    "\n",
    "### Initiate Dataloader\n",
    "To initiate the dataloader you can either run the first cell or the second cell. The first cell will initiate the dataloader with the default parameters, whereas the second cell will initiate it with the parameters that you want to use. If you want to change the parameters of the dataloader, you can change them in the second cell!"
   ]
  },
  {
   "cell_type": "markdown",
   "metadata": {},
   "source": [
    "Cell 1 here has the minimum args required to initalize the Dataloader."
   ]
  },
  {
   "cell_type": "code",
   "execution_count": 1,
   "metadata": {},
   "outputs": [
    {
     "name": "stderr",
     "output_type": "stream",
     "text": [
      "/home/steve/NMRcraft/.venv/lib/python3.11/site-packages/tqdm/auto.py:21: TqdmWarning: IProgress not found. Please update jupyter and ipywidgets. See https://ipywidgets.readthedocs.io/en/stable/user_install.html\n",
      "  from .autonotebook import tqdm as notebook_tqdm\n"
     ]
    },
    {
     "name": "stdout",
     "output_type": "stream",
     "text": [
      "Seed set to 42.\n"
     ]
    }
   ],
   "source": [
    "from nmrcraft.data.dataset import DataLoader\n",
    "\n",
    "feature_columns = [\n",
    "            \"M_sigma11_ppm\",\n",
    "            \"M_sigma22_ppm\",\n",
    "            \"M_sigma33_ppm\",\n",
    "            \"E_sigma11_ppm\",\n",
    "            \"E_sigma22_ppm\",\n",
    "            \"E_sigma33_ppm\",\n",
    "        ]\n",
    "\n",
    "data_loader = DataLoader(\n",
    "    feature_columns=feature_columns,\n",
    "    target_columns=\"metal\",\n",
    ")"
   ]
  },
  {
   "cell_type": "markdown",
   "metadata": {},
   "source": [
    "### DataLoader Args\n",
    "But of course there are a lot of args to choose from including these following that are meant to be chosen by you guys\n",
    "- `target_columns`: should be defined via args but is that string that defines which targets are the ones you wanna let the model predict.\n",
    "- `test_size`: defines test train split\n",
    "- `random_state`: sets random state in dataloader, doesn't really need to be touched but if you for some reason want multiple dataloaders or whatever, go ahead.\n",
    "- `dataset_size`: total size of dataset that is used. This is done directly at loading, so test train etc happens after this.\n",
    "- `target_type`: defines whether you want the dataloader to be in 'one-hot' or 'categorical' mode.\n",
    "- `complex_geometry`: defines what sort of complexes get loaded into the dataset. You can choose between oct, spy, tbp or all\n",
    "- `include_structural_features`: defines if structural features will be added to X or if X is only NMR data"
   ]
  },
  {
   "cell_type": "code",
   "execution_count": 2,
   "metadata": {},
   "outputs": [],
   "source": [
    "from nmrcraft.data.dataset import DataLoader\n",
    "\n",
    "feature_columns = [\n",
    "            \"M_sigma11_ppm\",\n",
    "            \"M_sigma22_ppm\",\n",
    "            \"M_sigma33_ppm\",\n",
    "            \"E_sigma11_ppm\",\n",
    "            \"E_sigma22_ppm\",\n",
    "            \"E_sigma33_ppm\",\n",
    "        ]\n",
    "\n",
    "data_loader = DataLoader(\n",
    "    feature_columns=feature_columns,\n",
    "    target_columns=\"metal_X4_E\",\n",
    "    test_size=0.2,\n",
    "    random_state=42,\n",
    "    dataset_size=0.001,\n",
    "    target_type=\"categorical\",  # can be \"categorical\" or \"one-hot\"\n",
    "    complex_geometry=\"all\", # can be oct, spy, tbp or all\n",
    "    include_structural_features=True, \n",
    ")"
   ]
  },
  {
   "cell_type": "markdown",
   "metadata": {},
   "source": [
    "### Load data\n",
    "To load the dataset you can just call the `load_data()` methodhod. This will return the X and y tests and trains respectively and also the y_labels."
   ]
  },
  {
   "cell_type": "code",
   "execution_count": 3,
   "metadata": {},
   "outputs": [],
   "source": [
    "X_train, X_test, y_train, y_test, y_labels = data_loader.load_data()"
   ]
  },
  {
   "cell_type": "markdown",
   "metadata": {},
   "source": [
    "### Categorical Features (X array for categorical mode)\n",
    "In the example below the first six numbers are the scaled NMR features, so the tensors passed to the dataloader (without data leakage 🥳).\n",
    "The following integers are the rest of the structural features that are not targets, so in this case as metal_X4_E are targets the integers correspond to X1_X2_X3_L (not sure about ordering but that shouldn't matter to the ML model)"
   ]
  },
  {
   "cell_type": "code",
   "execution_count": 4,
   "metadata": {},
   "outputs": [
    {
     "name": "stdout",
     "output_type": "stream",
     "text": [
      "[[-0.93845859 -1.99117285 -1.68097488  2.11218044 -2.18200124 -2.16674603\n",
      "   0.          0.          1.          0.        ]\n",
      " [-0.7868327  -0.1993694  -0.7927561  -0.10603898  0.5430169   0.59474844\n",
      "   0.          1.          0.          3.        ]\n",
      " [ 0.72493972  0.97727417  1.43524621 -0.38569623  0.59346515  0.53410624\n",
      "   0.          1.          4.          3.        ]\n",
      " [-1.20090888 -0.07551744  0.12365021 -1.08172709 -0.03574517 -0.10621104\n",
      "   0.          1.          4.          2.        ]\n",
      " [ 0.86643341  0.32483778  0.29589483 -0.0912498   0.48605053  0.5570423\n",
      "   0.          0.          1.          0.        ]\n",
      " [ 1.33482703  0.96394775  0.61893974 -0.44746834  0.59521383  0.5870601\n",
      "   0.          9.          1.          2.        ]]\n"
     ]
    }
   ],
   "source": [
    "print(X_test)"
   ]
  },
  {
   "cell_type": "markdown",
   "metadata": {},
   "source": [
    "### Target Features (y array for categorical mode)\n",
    "Here we have the columns representing metal, X4 and E. The integers come from the LabelEndoder and each integer corresponds to one Ligand/metal/thing. For example the first row 1, 1, 2 is 'W', 'Br', 'imido26diisopropylphenyl' (as can be seen in the decoder below)."
   ]
  },
  {
   "cell_type": "code",
   "execution_count": 5,
   "metadata": {},
   "outputs": [
    {
     "name": "stdout",
     "output_type": "stream",
     "text": [
      "[[ 0 10 13]\n",
      " [ 1  1  9]\n",
      " [ 1  6 11]\n",
      " [ 0  3 12]\n",
      " [ 1  4  8]\n",
      " [ 1  6  7]]\n"
     ]
    }
   ],
   "source": [
    "print(y_test)"
   ]
  },
  {
   "cell_type": "markdown",
   "metadata": {},
   "source": [
    "### Decode target (y) arrays\n",
    "To decode the targets you got you can use either the `categorical_target_decoder()` or the `binarized_target_decoder()` method of the dataloader. This will return an array where each position is the string corresponding to what it is. As far as I know these decoded things can be easily passed into the confusion matrix or maybe after flattening them.\n",
    "\n",
    "__Keep in mind that the decoding is dataloader specific as you need the same encoder to decode your data so always use the same dataloader for the targets predicted from a X__\n",
    "\n",
    "Basically: dataloader1 = DataLoader makes X1. Model is trained on X1 and y1 from dataloader1. the predictions of the model must be decoded with dataloader1 and you can't make another dataloader2 = DataLoader and try to decode the y1_pred with dataloader2. "
   ]
  },
  {
   "cell_type": "code",
   "execution_count": 6,
   "metadata": {},
   "outputs": [
    {
     "data": {
      "text/plain": [
       "array([['Mo', 'triphenylsiloxy', 'selenido'],\n",
       "       ['W', 'methyl', 'imido4nitrophenyl'],\n",
       "       ['W', 'tertbutoxy3F', 'imidotrityl'],\n",
       "       ['Mo', 'pentafluorophenoxy', 'oxo'],\n",
       "       ['W', 'phenoxy', 'imido4methylphenyl'],\n",
       "       ['W', 'tertbutoxy3F', 'imido4hydroxyphenyl']], dtype='<U19')"
      ]
     },
     "execution_count": 6,
     "metadata": {},
     "output_type": "execute_result"
    }
   ],
   "source": [
    "data_loader.categorical_target_decoder(y_test)\n"
   ]
  },
  {
   "cell_type": "code",
   "execution_count": 7,
   "metadata": {},
   "outputs": [
    {
     "data": {
      "text/plain": [
       "['Mo',\n",
       " 'triphenylsiloxy',\n",
       " 'selenido',\n",
       " 'W',\n",
       " 'methyl',\n",
       " 'imido4nitrophenyl',\n",
       " 'W',\n",
       " 'tertbutoxy3F',\n",
       " 'imidotrityl',\n",
       " 'Mo',\n",
       " 'pentafluorophenoxy',\n",
       " 'oxo',\n",
       " 'W',\n",
       " 'phenoxy',\n",
       " 'imido4methylphenyl',\n",
       " 'W',\n",
       " 'tertbutoxy3F',\n",
       " 'imido4hydroxyphenyl']"
      ]
     },
     "execution_count": 7,
     "metadata": {},
     "output_type": "execute_result"
    }
   ],
   "source": [
    "data_loader.confusion_matrix_data_adapter_categorical(y_test)"
   ]
  },
  {
   "cell_type": "markdown",
   "metadata": {},
   "source": [
    "### Confusion matrix with the dataloader\n",
    "Here just an example how nice the sklearn funcitons seem to work with labeld data."
   ]
  },
  {
   "cell_type": "code",
   "execution_count": 8,
   "metadata": {},
   "outputs": [
    {
     "data": {
      "text/plain": [
       "array([[2, 0, 0, 0, 0, 0, 0, 0, 0, 0, 0, 0, 0],\n",
       "       [0, 4, 0, 0, 0, 0, 0, 0, 0, 0, 0, 0, 0],\n",
       "       [0, 0, 1, 0, 0, 0, 0, 0, 0, 0, 0, 0, 0],\n",
       "       [0, 0, 0, 1, 0, 0, 0, 0, 0, 0, 0, 0, 0],\n",
       "       [0, 0, 0, 0, 1, 0, 0, 0, 0, 0, 0, 0, 0],\n",
       "       [0, 0, 0, 0, 0, 1, 0, 0, 0, 0, 0, 0, 0],\n",
       "       [0, 0, 0, 0, 0, 0, 1, 0, 0, 0, 0, 0, 0],\n",
       "       [0, 0, 0, 0, 0, 0, 0, 1, 0, 0, 0, 0, 0],\n",
       "       [0, 0, 0, 0, 0, 0, 0, 0, 1, 0, 0, 0, 0],\n",
       "       [0, 0, 0, 0, 0, 0, 0, 0, 0, 1, 0, 0, 0],\n",
       "       [0, 0, 0, 0, 0, 0, 0, 0, 0, 0, 1, 0, 0],\n",
       "       [0, 0, 0, 0, 0, 0, 0, 0, 0, 0, 0, 2, 0],\n",
       "       [0, 0, 0, 0, 0, 0, 0, 0, 0, 0, 0, 0, 1]])"
      ]
     },
     "execution_count": 8,
     "metadata": {},
     "output_type": "execute_result"
    }
   ],
   "source": [
    "from sklearn.metrics import confusion_matrix\n",
    "y_true_cm = y_pred_cm = data_loader.confusion_matrix_data_adapter_categorical(y_test)\n",
    "confusion_matrix(y_true_cm, y_pred_cm)"
   ]
  },
  {
   "cell_type": "markdown",
   "metadata": {},
   "source": [
    "### One-hot\n",
    "Here just the same stuff with one hot as an example so you see how the arrays look like. To be noted is that the structural features are one-hot encoded, so each integer column corresponds to a thing. [Here](https://scikit-learn.org/stable/modules/generated/sklearn.preprocessing.OneHotEncoder.html) you can read up on the one hot encoder."
   ]
  },
  {
   "cell_type": "code",
   "execution_count": 9,
   "metadata": {},
   "outputs": [
    {
     "name": "stdout",
     "output_type": "stream",
     "text": [
      "[[ 1.  1.  1. -1.  1. -1.  1.  1.  0.  0.  0.  0.  0.  0.  1.  0.  0.  0.\n",
      "   0.  0.  1.  0.  0.  0.  1.  0.  0.  0.  0.]\n",
      " [-1. -1. -1.  1. -1.  1.  1.  0.  0.  1.  0.  0.  1.  0.  0.  0.  0.  0.\n",
      "   1.  0.  0.  0.  1.  0.  0.  0.  0.  0.  0.]]\n"
     ]
    }
   ],
   "source": [
    "from nmrcraft.data.dataset import DataLoader\n",
    "\n",
    "feature_columns = [\n",
    "            \"M_sigma11_ppm\",\n",
    "            \"M_sigma22_ppm\",\n",
    "            \"M_sigma33_ppm\",\n",
    "            \"E_sigma11_ppm\",\n",
    "            \"E_sigma22_ppm\",\n",
    "            \"E_sigma33_ppm\",\n",
    "        ]\n",
    "\n",
    "data_loader = DataLoader(\n",
    "    feature_columns=feature_columns,\n",
    "    target_columns=\"metal_X4\",\n",
    "    test_size=0.2,\n",
    "    random_state=42,\n",
    "    dataset_size=0.0003,\n",
    "    target_type=\"one-hot\",  # can be \"categorical\" or \"one-hot\"\n",
    "    complex_geometry=\"all\", # can be oct, spy, tbp or all\n",
    "    include_structural_features=True, \n",
    ")\n",
    "\n",
    "X_train, X_test, y_train, y_test, y_labels = data_loader.load_data()\n",
    "\n",
    "print(X_test)"
   ]
  },
  {
   "cell_type": "markdown",
   "metadata": {},
   "source": [
    "### Label Binarized target (y-array one-hot mode)\n",
    "Here you can see that for example the 6th column of the array corresponds to tertbutoxy3F and is set to 1, so True and the 4th corresponds to neopentyl and is therefore set to true on column four.\n",
    "The metal column is special as it was already binary so the metals only get a single column that is either True or False. So when the metal column is False it's molly and True means tungsten (in this particular case. This is automatically determined by the [LabelBinarizer](https://scikit-learn.org/stable/modules/generated/sklearn.preprocessing.LabelBinarizer.html#sklearn.preprocessing.LabelBinarizer))."
   ]
  },
  {
   "cell_type": "code",
   "execution_count": 10,
   "metadata": {},
   "outputs": [
    {
     "name": "stdout",
     "output_type": "stream",
     "text": [
      "[[1 0 0 0 0 1 0 0 0]\n",
      " [1 0 0 1 0 0 0 0 0]]\n"
     ]
    }
   ],
   "source": [
    "print(y_test)"
   ]
  },
  {
   "cell_type": "code",
   "execution_count": 11,
   "metadata": {},
   "outputs": [
    {
     "data": {
      "text/plain": [
       "[['W', 'tertbutoxy3F'], ['W', 'neopentyl']]"
      ]
     },
     "execution_count": 11,
     "metadata": {},
     "output_type": "execute_result"
    }
   ],
   "source": [
    "data_loader.binarized_target_decoder(y_test)"
   ]
  },
  {
   "cell_type": "code",
   "execution_count": 12,
   "metadata": {},
   "outputs": [
    {
     "data": {
      "text/plain": [
       "['W', 'tertbutoxy3F', 'W', 'neopentyl']"
      ]
     },
     "execution_count": 12,
     "metadata": {},
     "output_type": "execute_result"
    }
   ],
   "source": [
    "data_loader.confusion_matrix_data_adapter_one_hot(y_test)"
   ]
  },
  {
   "cell_type": "code",
   "execution_count": null,
   "metadata": {},
   "outputs": [],
   "source": []
  }
 ],
 "metadata": {
  "kernelspec": {
   "display_name": ".venv",
   "language": "python",
   "name": "python3"
  },
  "language_info": {
   "codemirror_mode": {
    "name": "ipython",
    "version": 3
   },
   "file_extension": ".py",
   "mimetype": "text/x-python",
   "name": "python",
   "nbconvert_exporter": "python",
   "pygments_lexer": "ipython3",
   "version": "3.11.8"
  }
 },
 "nbformat": 4,
 "nbformat_minor": 2
}
