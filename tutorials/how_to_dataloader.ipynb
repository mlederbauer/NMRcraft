{
 "cells": [
  {
   "cell_type": "markdown",
   "metadata": {},
   "source": [
    "# Dataloader\n",
    "Hello dear NMRcrafter! In this notebook I would like to quickly run you through the usage of the nmrcraft dataloader!\n",
    "\n",
    "### Initiate Dataloader\n",
    "To initiate the dataloader you can either run the first cell or the second cell. The first cell will initiate the dataloader with the default parameters, whereas the second cell will initiate it with the parameters that you want to use. If you want to change the parameters of the dataloader, you can change them in the second cell!"
   ]
  },
  {
   "cell_type": "markdown",
   "metadata": {},
   "source": [
    "Cell 1 here has the minimum args required to initalize the Dataloader."
   ]
  },
  {
   "cell_type": "code",
   "execution_count": 1,
   "metadata": {},
   "outputs": [
    {
     "name": "stderr",
     "output_type": "stream",
     "text": [
      "/home/steve/NMRcraft/.venv/lib/python3.11/site-packages/tqdm/auto.py:21: TqdmWarning: IProgress not found. Please update jupyter and ipywidgets. See https://ipywidgets.readthedocs.io/en/stable/user_install.html\n",
      "  from .autonotebook import tqdm as notebook_tqdm\n"
     ]
    },
    {
     "name": "stdout",
     "output_type": "stream",
     "text": [
      "Seed set to 42.\n"
     ]
    }
   ],
   "source": [
    "from nmrcraft.data.dataset import DataLoader\n",
    "\n",
    "feature_columns = [\n",
    "            \"M_sigma11_ppm\",\n",
    "            \"M_sigma22_ppm\",\n",
    "            \"M_sigma33_ppm\",\n",
    "            \"E_sigma11_ppm\",\n",
    "            \"E_sigma22_ppm\",\n",
    "            \"E_sigma33_ppm\",\n",
    "        ]\n",
    "\n",
    "data_loader = DataLoader(\n",
    "    feature_columns=feature_columns,\n",
    "    target_columns=\"metal\",\n",
    ")"
   ]
  },
  {
   "cell_type": "markdown",
   "metadata": {},
   "source": [
    "### DataLoader Args\n",
    "But of course there are a lot of args to choose from including these following that are meant to be chosen by you guys\n",
    "- `target_columns`: should be defined via args but is that string that defines which targets are the ones you wanna let the model predict.\n",
    "- `test_size`: defines test train split\n",
    "- `random_state`: sets random state in dataloader, doesn't really need to be touched but if you for some reason want multiple dataloaders or whatever, go ahead.\n",
    "- `dataset_size`: total size of dataset that is used. This is done directly at loading, so test train etc happens after this.\n",
    "- `target_type`: defines whether you want the dataloader to be in 'one-hot' or 'categorical' mode.\n",
    "- `complex_geometry`: defines what sort of complexes get loaded into the dataset. You can choose between oct, spy, tbp or all"
   ]
  },
  {
   "cell_type": "code",
   "execution_count": 2,
   "metadata": {},
   "outputs": [],
   "source": [
    "from nmrcraft.data.dataset import DataLoader\n",
    "\n",
    "feature_columns = [\n",
    "            \"M_sigma11_ppm\",\n",
    "            \"M_sigma22_ppm\",\n",
    "            \"M_sigma33_ppm\",\n",
    "            \"E_sigma11_ppm\",\n",
    "            \"E_sigma22_ppm\",\n",
    "            \"E_sigma33_ppm\",\n",
    "        ]\n",
    "\n",
    "data_loader = DataLoader(\n",
    "    feature_columns=feature_columns,\n",
    "    target_columns=\"metal_X4_E\",\n",
    "    test_size=0.2,\n",
    "    random_state=42,\n",
    "    dataset_size=0.001,\n",
    "    target_type=\"categorical\",  # can be \"categorical\" or \"one-hot\"\n",
    "    complex_geometry=\"all\", # can be oct, spy, tbp or all\n",
    ")"
   ]
  },
  {
   "cell_type": "markdown",
   "metadata": {},
   "source": [
    "### Load data\n",
    "To load the dataset you can just call the `load_data()` methodhod. This will return the X and y tests and trains respectively and also the y_labels."
   ]
  },
  {
   "cell_type": "code",
   "execution_count": 3,
   "metadata": {},
   "outputs": [],
   "source": [
    "X_train, X_test, y_train, y_test, y_labels = data_loader.load_data()\n"
   ]
  },
  {
   "cell_type": "code",
   "execution_count": 4,
   "metadata": {},
   "outputs": [
    {
     "name": "stdout",
     "output_type": "stream",
     "text": [
      "[[-0.2722084  -2.21144124 -1.43206187  3.74585072 -5.16278678 -3.93518974\n",
      "   0.          0.          1.          0.        ]\n",
      " [-0.18789275 -0.07571338 -0.56527957  0.58809239  0.38235406  0.57606602\n",
      "   0.          1.          0.          3.        ]\n",
      " [ 0.65276891  1.32677885  1.6089516   0.18998478  0.48501124  0.4769992\n",
      "   0.          1.          4.          3.        ]\n",
      " [-0.41815093  0.07191111  0.32900997 -0.80085373 -0.79536918 -0.56904129\n",
      "   0.          1.          4.          2.        ]\n",
      " [ 0.73145027  0.54911177  0.49709759  0.6091456   0.26643317  0.51446819\n",
      "   0.          0.          1.          0.        ]\n",
      " [ 0.99191313  1.31089452  0.81234606  0.10204876  0.48856963  0.56350613\n",
      "   0.          9.          1.          2.        ]]\n"
     ]
    }
   ],
   "source": [
    "print(X_test)"
   ]
  },
  {
   "cell_type": "code",
   "execution_count": 5,
   "metadata": {},
   "outputs": [
    {
     "name": "stdout",
     "output_type": "stream",
     "text": [
      "[[ 0 10 13]\n",
      " [ 1  1  9]\n",
      " [ 1  6 11]\n",
      " [ 0  3 12]\n",
      " [ 1  4  8]\n",
      " [ 1  6  7]]\n"
     ]
    }
   ],
   "source": [
    "print(y_test)"
   ]
  },
  {
   "cell_type": "markdown",
   "metadata": {},
   "source": [
    "### Decode target (y) arrays\n",
    "To decode the targets you got you can use ether the `categorical_target_decoder()` or the `binarized_target_decoder()` method of the dataloader. This will return a labled list of lists. As far as I know these decoded things can be easily passed into the cm or maybe after flattening them."
   ]
  },
  {
   "cell_type": "code",
   "execution_count": 6,
   "metadata": {},
   "outputs": [
    {
     "data": {
      "text/plain": [
       "[['Mo', 'triphenylsiloxy', 'selenido'],\n",
       " ['W', 'methyl', 'imido4nitrophenyl'],\n",
       " ['W', 'tertbutoxy3F', 'imidotrityl'],\n",
       " ['Mo', 'pentafluorophenoxy', 'oxo'],\n",
       " ['W', 'phenoxy', 'imido4methylphenyl'],\n",
       " ['W', 'tertbutoxy3F', 'imido4hydroxyphenyl']]"
      ]
     },
     "execution_count": 6,
     "metadata": {},
     "output_type": "execute_result"
    }
   ],
   "source": [
    "data_loader.categorical_target_decoder(y_test)\n"
   ]
  },
  {
   "cell_type": "code",
   "execution_count": 7,
   "metadata": {},
   "outputs": [
    {
     "data": {
      "text/plain": [
       "['Mo',\n",
       " 'triphenylsiloxy',\n",
       " 'selenido',\n",
       " 'W',\n",
       " 'methyl',\n",
       " 'imido4nitrophenyl',\n",
       " 'W',\n",
       " 'tertbutoxy3F',\n",
       " 'imidotrityl',\n",
       " 'Mo',\n",
       " 'pentafluorophenoxy',\n",
       " 'oxo',\n",
       " 'W',\n",
       " 'phenoxy',\n",
       " 'imido4methylphenyl',\n",
       " 'W',\n",
       " 'tertbutoxy3F',\n",
       " 'imido4hydroxyphenyl']"
      ]
     },
     "execution_count": 7,
     "metadata": {},
     "output_type": "execute_result"
    }
   ],
   "source": [
    "data_loader.confusion_matrix_data_adapter_categorical(y_test)"
   ]
  },
  {
   "cell_type": "markdown",
   "metadata": {},
   "source": [
    "### Confusion matrix with the dataloader\n",
    "Here just an example how nice the sklearn funcitons seem to work with labeld data."
   ]
  },
  {
   "cell_type": "code",
   "execution_count": 8,
   "metadata": {},
   "outputs": [
    {
     "data": {
      "text/plain": [
       "array([[2, 0, 0, 0, 0, 0, 0, 0, 0, 0, 0, 0, 0],\n",
       "       [0, 4, 0, 0, 0, 0, 0, 0, 0, 0, 0, 0, 0],\n",
       "       [0, 0, 1, 0, 0, 0, 0, 0, 0, 0, 0, 0, 0],\n",
       "       [0, 0, 0, 1, 0, 0, 0, 0, 0, 0, 0, 0, 0],\n",
       "       [0, 0, 0, 0, 1, 0, 0, 0, 0, 0, 0, 0, 0],\n",
       "       [0, 0, 0, 0, 0, 1, 0, 0, 0, 0, 0, 0, 0],\n",
       "       [0, 0, 0, 0, 0, 0, 1, 0, 0, 0, 0, 0, 0],\n",
       "       [0, 0, 0, 0, 0, 0, 0, 1, 0, 0, 0, 0, 0],\n",
       "       [0, 0, 0, 0, 0, 0, 0, 0, 1, 0, 0, 0, 0],\n",
       "       [0, 0, 0, 0, 0, 0, 0, 0, 0, 1, 0, 0, 0],\n",
       "       [0, 0, 0, 0, 0, 0, 0, 0, 0, 0, 1, 0, 0],\n",
       "       [0, 0, 0, 0, 0, 0, 0, 0, 0, 0, 0, 2, 0],\n",
       "       [0, 0, 0, 0, 0, 0, 0, 0, 0, 0, 0, 0, 1]])"
      ]
     },
     "execution_count": 8,
     "metadata": {},
     "output_type": "execute_result"
    }
   ],
   "source": [
    "from sklearn.metrics import confusion_matrix\n",
    "y_true_cm = y_pred_cm = data_loader.confusion_matrix_data_adapter_categorical(y_test)\n",
    "confusion_matrix(y_true_cm, y_pred_cm)"
   ]
  },
  {
   "cell_type": "markdown",
   "metadata": {},
   "source": [
    "### One-hot\n",
    "Here just the same stuff with one hot as an example so you see how the arrays look like"
   ]
  },
  {
   "cell_type": "code",
   "execution_count": 18,
   "metadata": {},
   "outputs": [
    {
     "name": "stdout",
     "output_type": "stream",
     "text": [
      "[[ 1.0608492  -1.43010797 -1.19944602  1.1432843  -2.5987814  -2.53579661\n",
      "   1.          0.          1.          0.          0.          0.\n",
      "   0.          0.          0.          0.          0.          0.\n",
      "   0.          0.          1.          1.          0.          0.\n",
      "   0.          0.          0.          0.          0.          0.\n",
      "   1.        ]\n",
      " [-0.63463686 -0.40617919  0.1220005   0.26723443 -0.40590405  0.26531819\n",
      "   1.          0.          1.          0.          0.          0.\n",
      "   0.          0.          0.          0.          0.          1.\n",
      "   0.          0.          0.          0.          1.          1.\n",
      "   0.          0.          0.          0.          0.          0.\n",
      "   0.        ]]\n"
     ]
    }
   ],
   "source": [
    "from nmrcraft.data.dataset import DataLoader\n",
    "\n",
    "feature_columns = [\n",
    "            \"M_sigma11_ppm\",\n",
    "            \"M_sigma22_ppm\",\n",
    "            \"M_sigma33_ppm\",\n",
    "            \"E_sigma11_ppm\",\n",
    "            \"E_sigma22_ppm\",\n",
    "            \"E_sigma33_ppm\",\n",
    "        ]\n",
    "\n",
    "data_loader = DataLoader(\n",
    "    feature_columns=feature_columns,\n",
    "    target_columns=\"metal_X3\",\n",
    "    test_size=0.2,\n",
    "    random_state=42,\n",
    "    dataset_size=0.0003,\n",
    "    target_type=\"one-hot\",  # can be \"categorical\" or \"one-hot\"\n",
    "    complex_geometry=\"all\", # can be oct, spy, tbp or all\n",
    ")\n",
    "\n",
    "X_train, X_test, y_train, y_test, y_labels = data_loader.load_data()\n",
    "\n",
    "print(X_test)"
   ]
  },
  {
   "cell_type": "code",
   "execution_count": 19,
   "metadata": {},
   "outputs": [
    {
     "name": "stdout",
     "output_type": "stream",
     "text": [
      "[[1 1 0 0 0 0 0]\n",
      " [0 1 0 0 0 0 0]]\n"
     ]
    }
   ],
   "source": [
    "print(y_test)"
   ]
  },
  {
   "cell_type": "code",
   "execution_count": 20,
   "metadata": {},
   "outputs": [
    {
     "data": {
      "text/plain": [
       "[['W', 'Br'], ['Mo', 'Br']]"
      ]
     },
     "execution_count": 20,
     "metadata": {},
     "output_type": "execute_result"
    }
   ],
   "source": [
    "data_loader.binarized_target_decoder(y_test)"
   ]
  },
  {
   "cell_type": "code",
   "execution_count": 21,
   "metadata": {},
   "outputs": [
    {
     "data": {
      "text/plain": [
       "['W', 'Br', 'Mo', 'Br']"
      ]
     },
     "execution_count": 21,
     "metadata": {},
     "output_type": "execute_result"
    }
   ],
   "source": [
    "data_loader.confusion_matrix_data_adapter_one_hot(y_test)"
   ]
  },
  {
   "cell_type": "code",
   "execution_count": null,
   "metadata": {},
   "outputs": [],
   "source": []
  }
 ],
 "metadata": {
  "kernelspec": {
   "display_name": ".venv",
   "language": "python",
   "name": "python3"
  },
  "language_info": {
   "codemirror_mode": {
    "name": "ipython",
    "version": 3
   },
   "file_extension": ".py",
   "mimetype": "text/x-python",
   "name": "python",
   "nbconvert_exporter": "python",
   "pygments_lexer": "ipython3",
   "version": "3.11.8"
  }
 },
 "nbformat": 4,
 "nbformat_minor": 2
}
